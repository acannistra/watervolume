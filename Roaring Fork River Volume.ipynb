{
 "cells": [
  {
   "cell_type": "code",
   "execution_count": 11,
   "metadata": {
    "collapsed": true
   },
   "outputs": [],
   "source": [
    "import pandas as pd\n",
    "from datetime import datetime, timedelta"
   ]
  },
  {
   "cell_type": "code",
   "execution_count": 12,
   "metadata": {
    "collapsed": false
   },
   "outputs": [],
   "source": [
    "riverdata = pd.read_csv(\"data/ACES_streamflow_all.csv\", parse_dates=[0], index_col=0)"
   ]
  },
  {
   "cell_type": "code",
   "execution_count": 13,
   "metadata": {
    "collapsed": false
   },
   "outputs": [],
   "source": [
    "YEARSTART = \"5/1/2015\"\n",
    "YEAREND   = \"5/31/2016\"\n",
    "\n",
    "RUNOFFSTART = \"6/1/2015\"\n",
    "RUNOFFEND   = \"7/25/2015\"\n",
    "\n",
    "focusyear = riverdata[YEARSTART:YEAREND]\n",
    "focusrunoff = riverdata[RUNOFFSTART:RUNOFFEND]\n"
   ]
  },
  {
   "cell_type": "markdown",
   "metadata": {},
   "source": [
    "Calculate for each 15-minute segment the total volume of water passing through streamgauge.\n",
    "\n",
    "This is expressed as \n",
    "\n",
    "    (CF/S)* (60 seconds / minute) * minutes = CF \n",
    "\n"
   ]
  },
  {
   "cell_type": "code",
   "execution_count": 25,
   "metadata": {
    "collapsed": false
   },
   "outputs": [
    {
     "name": "stdout",
     "output_type": "stream",
     "text": [
      "4377879498.24 cubic feet\n"
     ]
    }
   ],
   "source": [
    "seconds_per_15_minutes = 60*15\n",
    "\n",
    "total_volume = sum((focusyear['cfs'].map(lambda x: x * seconds_per_15_minutes)))\n",
    "\n",
    "print total_volume , \"cubic feet\"\n"
   ]
  },
  {
   "cell_type": "code",
   "execution_count": 24,
   "metadata": {
    "collapsed": false
   },
   "outputs": [
    {
     "name": "stdout",
     "output_type": "stream",
     "text": [
      "3063184160.13 cubic feet\n"
     ]
    }
   ],
   "source": [
    "## focus_runoff = riverdata[RUNOFFSTART:RUNOFFEND]\n",
    "runoff_volume = sum(focusrunoff['cfs'].map(lambda x: x*seconds_per_15_minutes))\n",
    "print runoff_volume, \"cubic feet\"\n",
    "\n"
   ]
  },
  {
   "cell_type": "code",
   "execution_count": 23,
   "metadata": {
    "collapsed": false
   },
   "outputs": [
    {
     "name": "stdout",
     "output_type": "stream",
     "text": [
      "69.9695859916 %\n"
     ]
    }
   ],
   "source": [
    "print (runoff_volume/total_volume)*100, \"%\""
   ]
  },
  {
   "cell_type": "code",
   "execution_count": null,
   "metadata": {
    "collapsed": true
   },
   "outputs": [],
   "source": []
  }
 ],
 "metadata": {
  "kernelspec": {
   "display_name": "Python 2",
   "language": "python",
   "name": "python2"
  },
  "language_info": {
   "codemirror_mode": {
    "name": "ipython",
    "version": 2
   },
   "file_extension": ".py",
   "mimetype": "text/x-python",
   "name": "python",
   "nbconvert_exporter": "python",
   "pygments_lexer": "ipython2",
   "version": "2.7.8"
  }
 },
 "nbformat": 4,
 "nbformat_minor": 0
}
